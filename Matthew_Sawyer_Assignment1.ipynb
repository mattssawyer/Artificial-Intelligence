{
  "nbformat": 4,
  "nbformat_minor": 0,
  "metadata": {
    "colab": {
      "provenance": []
    },
    "kernelspec": {
      "name": "python3",
      "display_name": "Python 3"
    },
    "language_info": {
      "name": "python"
    }
  },
  "cells": [
    {
      "cell_type": "markdown",
      "source": [
        "# Algorithm Implementation"
      ],
      "metadata": {
        "id": "IbuomOLbNe4B"
      }
    },
    {
      "cell_type": "code",
      "execution_count": 30,
      "metadata": {
        "id": "kc8CkPXK5x7G"
      },
      "outputs": [],
      "source": [
        "from collections import defaultdict\n",
        "import heapq\n",
        "import math\n",
        "\n",
        "# Graph data structure #\n",
        "class Graph:\n",
        "  def __init__(self):\n",
        "    self.adjacency_list = DefaultDict(list) # Node -> [(neighbor, weight)...]\n",
        "    self.coordinates = {}  # Node -> (x, y)\n",
        "\n",
        "  # Add a weighted edge\n",
        "  def add_edge(self, node1, node2, weight):\n",
        "    self.adjacency_list[node1].append((node2, weight))\n",
        "    self.adjacency_list[node2].append((node1, weight))\n",
        "\n",
        "  # Add node coordinates\n",
        "  def add_node_coordinates(self, node, x, y):\n",
        "    self.coordinates[node] = (x, y)\n",
        "\n",
        "  # Get neighbors for a node\n",
        "  def get_neighbors(self, node):\n",
        "    neighbors = self.adjacency_list[node]\n",
        "    return sorted(neighbors, key=lambda x: int(x[0].split('_')[1])) # Sort nodes by their ID\n",
        "\n",
        "  # Get all nodes in the graph\n",
        "  def get_nodes(self):\n",
        "    nodes = list(self.adjacency_list.keys())\n",
        "    return sorted(nodes, key=lambda x: int(x.split('_')[1])) # Sort nodes by their ID\n",
        "\n",
        "  # Euclidean distance heuristic\n",
        "  def euclidean_distance(self, node1, node2):\n",
        "    if node1 not in self.coordinates or node2 not in self.coordinates:\n",
        "      raise ValueError(\"Nodes must have coordinates\")\n",
        "\n",
        "    x1, y1 = self.coordinates[node1]\n",
        "    x2, y2 = self.coordinates[node2]\n",
        "    return math.sqrt((x2 - x1)**2 + (y2 - y1)**2)\n",
        "\n",
        "  # Manhattan Distance heuristic\n",
        "  def manhattan_distance(self, node1, node2):\n",
        "    if node1 not in self.coordinates or node2 not in self.coordinates:\n",
        "      raise ValueError(\"Nodes must have coordinates\")\n",
        "\n",
        "    x1, y1 = self.coordinates[node1]\n",
        "    x2, y2 = self.coordinates[node2]\n",
        "    return abs(x2 - x1) + abs(y2 - y1)\n",
        "\n",
        "\n",
        "# Function to parse input files\n",
        "def parse_input(edge_file, node_file):\n",
        "\n",
        "  graph = Graph()\n",
        "\n",
        "  with open(edge_file) as f:\n",
        "    for line in f:\n",
        "      n1, n2, weight = line.strip().split(',')\n",
        "      graph.add_edge(n1.strip(), n2.strip(), float(weight.strip()))\n",
        "\n",
        "  with open(node_file) as f:\n",
        "    for line in f:\n",
        "      node, x, y = line.strip().split(',')\n",
        "      node = node.strip()\n",
        "      x = x.strip()\n",
        "      y = y.strip()\n",
        "      graph.add_node_coordinates(node, float(x), float(y))\n",
        "\n",
        "  return graph"
      ]
    },
    {
      "cell_type": "markdown",
      "source": [
        "The above code implements a graph data structure with the graph represented as an adjacency list. Each graph object has a dictionary for the adjacency list and an array which contains each node and its associated coordinates. The class has functions for adding edges and node coordinates as well as getting the neighbors of a given node.\n",
        "\n",
        "\\\n",
        "\n",
        "An adjacency list was chosen as the data structure to represent the graph because it is highly suitable for search tasks, allowing for access of a node's neighbors in O(1) time.\n",
        "\n",
        "\\\n",
        "\n",
        "The get_neighbors() and get_nodes() functions return their lists of nodes in sorted order, which makes the search algorithms choose the lowest key value when deciding on a frontier node to visit.\n",
        "\n",
        "\\\n",
        "Here, the heuristic functions for the A* algorithm are also defined, which will be discussed in more detail below.\n"
      ],
      "metadata": {
        "id": "7JTgno18aFms"
      }
    },
    {
      "cell_type": "code",
      "source": [
        "def dfs(graph, start, end):\n",
        "  stack = [start]\n",
        "  path = []\n",
        "\n",
        "  while stack:\n",
        "    node = stack.pop()\n",
        "    path.append(node)\n",
        "\n",
        "    if node == end:\n",
        "      return path\n",
        "\n",
        "    for neighbor, _ in reversed(graph.get_neighbors(node)):\n",
        "      if neighbor not in path:\n",
        "        stack.append(neighbor)\n",
        "  return path"
      ],
      "metadata": {
        "id": "W17aBTInkXEx"
      },
      "execution_count": 31,
      "outputs": []
    },
    {
      "cell_type": "markdown",
      "source": [
        "Here, the depth-first search function is defined. The function uses a stack to represent the frontier nodes, and searches them in numerical order with a last in, first out selection procedure. When there are multiple ndoes on the frontier, it chooses the lowest ordered node first. The implementation for this ordering is accomplished by reversing the numerical ordering returned by get_neighbors(), which ensures that lower order nodes are placed on top of the stack."
      ],
      "metadata": {
        "id": "lE19muUUQXq3"
      }
    },
    {
      "cell_type": "code",
      "source": [
        "def bfs(graph, start, end):\n",
        "\n",
        "  queue = [start]\n",
        "  visited = set([start])\n",
        "  path = []\n",
        "\n",
        "  while queue:\n",
        "    node = queue.pop(0)\n",
        "    path.append(node)\n",
        "\n",
        "    if node == end:\n",
        "      return path\n",
        "\n",
        "\n",
        "    for neighbor, _ in (graph.get_neighbors(node)):\n",
        "      if neighbor not in visited:\n",
        "        visited.add(neighbor)\n",
        "        queue.append(neighbor)\n",
        "\n",
        "  return path"
      ],
      "metadata": {
        "id": "f013Se9US3Vj"
      },
      "execution_count": 32,
      "outputs": []
    },
    {
      "cell_type": "markdown",
      "source": [
        "Above is the implementation of the breadth-first search algorithm. It behaves similarly to the depth first search algorithm, with the only difference being that a queue is used to represent the frontier nodes as opposed to a stack. It uses a queue with the first in, first out procedure for selection of the next node at each step."
      ],
      "metadata": {
        "id": "lK_RjKpzk3HG"
      }
    },
    {
      "cell_type": "code",
      "source": [
        "\n",
        "def a_star(graph, start, end, heuristic):\n",
        "\n",
        "    def calculate_heuristic(node):\n",
        "        if heuristic == 'euclidean':\n",
        "            return graph.euclidean_distance(node, end)\n",
        "        elif heuristic == 'manhattan':\n",
        "            return graph.manhattan_distance(node, end)\n",
        "        else:\n",
        "            return 0\n",
        "\n",
        "    def process_neighbor(neighbor, weight, current, g_score, f_score, came_from, open_set):\n",
        "        tentative_g_score = g_score[current] + weight\n",
        "        if tentative_g_score < g_score[neighbor]:\n",
        "            came_from[neighbor] = current\n",
        "            g_score[neighbor] = tentative_g_score\n",
        "            f_score[neighbor] = tentative_g_score + calculate_heuristic(neighbor)\n",
        "            heapq.heappush(open_set, (f_score[neighbor], neighbor))\n",
        "\n",
        "    open_set = [(0, start)]  # (f_score, node)\n",
        "    closed_set = set()\n",
        "    came_from = {}\n",
        "    visited_order = []\n",
        "\n",
        "    g_score = defaultdict(lambda: float('inf'))\n",
        "    g_score[start] = 0\n",
        "\n",
        "    f_score = defaultdict(lambda: float('inf'))\n",
        "    f_score[start] = calculate_heuristic(start)\n",
        "\n",
        "    while open_set:\n",
        "        _, current = heapq.heappop(open_set)\n",
        "        if current in closed_set:\n",
        "            continue\n",
        "\n",
        "        visited_order.append(current)\n",
        "        closed_set.add(current)\n",
        "\n",
        "        if current == end:\n",
        "            return visited_order\n",
        "\n",
        "        for neighbor, weight in graph.get_neighbors(current):\n",
        "            if neighbor in closed_set:\n",
        "                continue\n",
        "            process_neighbor(neighbor, weight, current, g_score, f_score, came_from, open_set)\n",
        "\n",
        "    return visited_order\n"
      ],
      "metadata": {
        "id": "L75ba1JsnH70"
      },
      "execution_count": 33,
      "outputs": []
    },
    {
      "cell_type": "markdown",
      "source": [
        "Above is the implementation of the a-star algorithm. It uses two different heuristics to evaluate distance to the goal: Euclidean distance and Manhattan distance. The algorithm maintains an open set of nodes to be evaluated and a closed set of nodes already processed. During each iteration, the algorithm selects the node with the lowest f-score from the open set using a priority queue implemented using python's heapq module. If it is the goal node, the search ends. If not, the current node is moved from the open set to the closed set to avoid reprocessing, and its neighbors are processed. Helper functions are used to make the code more readable and avoid writing two different A* functions for the different search heuristics.\n",
        "\\\n",
        "\\\n",
        "**Euclidean Distance Heuristic**\n",
        "\\\n",
        "This was a clear option for search heuristic because each node has a 2-D coordinate associated with it. This is an admissible heuristic because the straight line distance from any node N to the goal node is always less than or equal to the distance of the real optimal path. This is because the shortest distance between two points is always a straight line. This helps A* perform better than the uninformed search because it gives a direction to traverse into rather than searching all directions equally.\n",
        "\\\n",
        "\\\n",
        "**Manhattan Distance Heuristic**\n",
        "\\\n",
        "This heuristic was chosen also because it fits the problem domain quite well, much like Euclidean distance but more bounded. Since each node has a 2-D coordinate, and moves can only be made to adjacent nodes in cardinal directions, we can use the Manhattan distance to estimate the distance from each node to the goal node. This heuristic is admissible because it always takes the minimum number of steps on a grid from one node to another, which is never greater than the real value. This helps A* perform better than the uninformed search algorithms because it provides a grid direction in which to traverse and matches the movement constraints of the problem.\n"
      ],
      "metadata": {
        "id": "zRorpzMV63yi"
      }
    },
    {
      "cell_type": "markdown",
      "source": [
        "# Evaluation and Analysis"
      ],
      "metadata": {
        "id": "cSJkSAVTNSCH"
      }
    },
    {
      "cell_type": "markdown",
      "source": [
        "Two evaluation metrics will be used to test the performance of these search algorithms:\n",
        "\n",
        "\n",
        "1.   Time taken to complete each test case\n",
        "2.   Number of steps taken, as defined by number of nodes visited"
      ],
      "metadata": {
        "id": "cNpbY4FqOrGN"
      }
    },
    {
      "cell_type": "code",
      "source": [
        "# Time measurements #\n",
        "\n",
        "if __name__ == '__main__':\n",
        "\n",
        "  print(\"Test Case 1: 25 Nodes\")\n",
        "  graph = parse_input(\"TestCase_01_EdgeList.txt\", \"TestCase_01_NodeID.csv\")\n",
        "  start = graph.get_nodes()[0]\n",
        "  end = graph.get_nodes()[-1]\n",
        "  print(\"DFS time:\")\n",
        "  time_dfs = %timeit -o dfs(graph, start, end)\n",
        "  print(\"\\nBFS time:\")\n",
        "  time_bfs = %timeit -o bfs(graph, start, end)\n",
        "  print(\"\\nA* Euclidean time:\")\n",
        "  time_a_star_euclidean = %timeit -o a_star(graph, start, end, 'euclidean')\n",
        "  print(\"\\nA* Manhattan time:\")\n",
        "  time_a_star_manhattan = %timeit -o a_star(graph, start, end, 'manhattan')\n",
        "\n",
        "  print(\"\\nTest Case 2: 100 Nodes\")\n",
        "  graph = parse_input(\"TestCase_02_EdgeList.txt\", \"TestCase_02_NodeID.csv\")\n",
        "  start = graph.get_nodes()[0]\n",
        "  end = graph.get_nodes()[-1]\n",
        "  print(\"DFS time:\")\n",
        "  time_dfs = %timeit -o dfs(graph, start, end)\n",
        "  print(\"\\nBFS time:\")\n",
        "  time_bfs = %timeit -o bfs(graph, start, end)\n",
        "  print(\"\\nA* Euclidean time:\")\n",
        "  time_a_star_euclidean = %timeit -o a_star(graph, start, end, 'euclidean')\n",
        "  print(\"\\nA* Manhattan time:\")\n",
        "  time_a_star_manhattan = %timeit -o a_star(graph, start, end, 'manhattan')\n",
        "\n",
        "  print(\"\\nTest Case 3: 1000 Nodes\")\n",
        "  graph = parse_input(\"TestCase_03_EdgeList.txt\", \"TestCase_03_NodeID.csv\")\n",
        "  start = graph.get_nodes()[0]\n",
        "  end = graph.get_nodes()[-1]\n",
        "  print(\"DFS time:\")\n",
        "  time_dfs = %timeit -o dfs(graph, start, end)\n",
        "  print(\"\\nBFS time:\")\n",
        "  time_bfs = %timeit -o bfs(graph, start, end)\n",
        "  print(\"\\nA* Euclidean time:\")\n",
        "  time_a_star_euclidean = %timeit -o a_star(graph, start, end, 'euclidean')\n",
        "  print(\"\\nA* Manhattan time:\")\n",
        "  time_a_star_manhattan = %timeit -o a_star(graph, start, end, 'manhattan')"
      ],
      "metadata": {
        "colab": {
          "base_uri": "https://localhost:8080/"
        },
        "id": "A8ZDlzLNNdNQ",
        "outputId": "26668690-3532-4212-8854-10660f85005d"
      },
      "execution_count": 38,
      "outputs": [
        {
          "output_type": "stream",
          "name": "stdout",
          "text": [
            "Test Case 1: 25 Nodes\n",
            "DFS time:\n",
            "51.9 µs ± 13.1 µs per loop (mean ± std. dev. of 7 runs, 10000 loops each)\n",
            "BFS time:\n",
            "35 µs ± 8.23 µs per loop (mean ± std. dev. of 7 runs, 10000 loops each)\n",
            "A* Euclidean time:\n",
            "44 µs ± 1.07 µs per loop (mean ± std. dev. of 7 runs, 10000 loops each)\n",
            "A* Manhattan time:\n",
            "42 µs ± 1.38 µs per loop (mean ± std. dev. of 7 runs, 10000 loops each)\n",
            "\n",
            "Test Case 2: 100 Nodes\n",
            "DFS time:\n",
            "179 µs ± 47.2 µs per loop (mean ± std. dev. of 7 runs, 10000 loops each)\n",
            "BFS time:\n",
            "121 µs ± 32 µs per loop (mean ± std. dev. of 7 runs, 10000 loops each)\n",
            "A* Euclidean time:\n",
            "162 µs ± 39.2 µs per loop (mean ± std. dev. of 7 runs, 10000 loops each)\n",
            "A* Manhattan time:\n",
            "144 µs ± 35.6 µs per loop (mean ± std. dev. of 7 runs, 10000 loops each)\n",
            "\n",
            "Test Case 3: 1000 Nodes\n",
            "DFS time:\n",
            "3.73 ms ± 535 µs per loop (mean ± std. dev. of 7 runs, 100 loops each)\n",
            "BFS time:\n",
            "1.86 ms ± 458 µs per loop (mean ± std. dev. of 7 runs, 1000 loops each)\n",
            "A* Euclidean time:\n",
            "2.94 ms ± 90.8 µs per loop (mean ± std. dev. of 7 runs, 100 loops each)\n",
            "A* Manhattan time:\n",
            "2.81 ms ± 74.2 µs per loop (mean ± std. dev. of 7 runs, 100 loops each)\n"
          ]
        }
      ]
    },
    {
      "cell_type": "markdown",
      "source": [
        "It appears that in all test cases, the depth-first search was the slowest of the three algorithms on average. This makes sense because it is the one that is most likely to take a wrong path. Breadth-first search performed the quickest of the three in all cases, especially those with more nodes. This makes sense because it requires less exploration than DFS, and has no need to calculate heuristics as with A*."
      ],
      "metadata": {
        "id": "guPRamBjSmpf"
      }
    },
    {
      "cell_type": "code",
      "source": [
        "# Number of steps measurements #\n",
        "if __name__ == '__main__':\n",
        "\n",
        "  print(\"Test Case 1: 25 Nodes\")\n",
        "  graph = parse_input(\"TestCase_01_EdgeList.txt\", \"TestCase_01_NodeID.csv\")\n",
        "  start = graph.get_nodes()[0]\n",
        "  end = graph.get_nodes()[-1]\n",
        "  print(len(dfs(graph, start, end)))\n",
        "  print(len(bfs(graph, start, end)))\n",
        "  print(len(a_star(graph, start, end, 'euclidean')))\n",
        "  print(len(a_star(graph, start, end, 'manhattan')))\n",
        "\n",
        "  print(\"\\nTest Case 2: 100 Nodes\")\n",
        "  graph = parse_input(\"TestCase_02_EdgeList.txt\", \"TestCase_02_NodeID.csv\")\n",
        "  start = graph.get_nodes()[0]\n",
        "  end = graph.get_nodes()[-1]\n",
        "  print(len(dfs(graph, start, end)))\n",
        "  print(len(bfs(graph, start, end)))\n",
        "  print(len(a_star(graph, start, end, 'euclidean')))\n",
        "  print(len(a_star(graph, start, end, 'manhattan')))\n",
        "\n",
        "  print(\"\\nTest Case 3: 1000 Nodes\")\n",
        "  graph = parse_input(\"TestCase_03_EdgeList.txt\", \"TestCase_03_NodeID.csv\")\n",
        "  start = graph.get_nodes()[0]\n",
        "  end = graph.get_nodes()[-1]\n",
        "  print(len(dfs(graph, start, end)))\n",
        "  print(len(bfs(graph, start, end)))\n",
        "  print(len(a_star(graph, start, end, 'euclidean')))\n",
        "  print(len(a_star(graph, start, end, 'manhattan')))"
      ],
      "metadata": {
        "colab": {
          "base_uri": "https://localhost:8080/"
        },
        "id": "ZEDtsIq9Tmue",
        "outputId": "9881c377-7430-4813-c2d5-aa3947a16311"
      },
      "execution_count": 42,
      "outputs": [
        {
          "output_type": "stream",
          "name": "stdout",
          "text": [
            "Test Case 1: 25 Nodes\n",
            "22\n",
            "25\n",
            "15\n",
            "15\n",
            "\n",
            "Test Case 2: 100 Nodes\n",
            "67\n",
            "76\n",
            "44\n",
            "38\n",
            "\n",
            "Test Case 3: 1000 Nodes\n",
            "374\n",
            "980\n",
            "888\n",
            "857\n"
          ]
        }
      ]
    },
    {
      "cell_type": "markdown",
      "source": [
        "The A* algorithms shine here in the first two test cases with low numbers of nodes, finding a path in the shortest number of steps in both. We also see breadth-first search performing the most node visits in these test cases, which is line with the expected behavior of this algorithm, with its propensity to visit a large number of nodes. The third test case is anomalous, as we see what I can only assume is depth-first search getting lucky and finding a path in one fourth the amount of steps of the other three algorithms."
      ],
      "metadata": {
        "id": "miOmf5hhUQSM"
      }
    },
    {
      "cell_type": "markdown",
      "source": [
        "**Conclusion** \\\n",
        "The A* algorithms would appear to be extremely well-suited for this search problem both in search time as well as number of steps, especially in the smaller search spaces. We see a drop-off in performance in the larger search space, although I am sure it finds a shorter optimal path than the other algorithms. If I were to choose a search algorithm for such a problem, I would choose A*.\n",
        "\n",
        "\n",
        "\\\n",
        "\n",
        "Below is the output of each algorithm on each test case:"
      ],
      "metadata": {
        "id": "3CFMG6wKVAJ_"
      }
    },
    {
      "cell_type": "code",
      "source": [
        "if __name__ == \"__main__\":\n",
        "\n",
        "  print(\"\\nTest Case 1:\\n\")\n",
        "  graph = parse_input(\"TestCase_01_EdgeList.txt\", \"TestCase_01_NodeID.csv\")\n",
        "  start = graph.get_nodes()[0]\n",
        "  end = graph.get_nodes()[-1]\n",
        "  print(dfs(graph, start, end))\n",
        "  print(bfs(graph, start, end))\n",
        "  print(a_star(graph, start, end, 'euclidean'))\n",
        "  print(a_star(graph, start, end, 'manhattan'))\n",
        "\n",
        "  print(\"\\nTest Case 2:\\n\")\n",
        "  graph = parse_input(\"TestCase_02_EdgeList.txt\", \"TestCase_02_NodeID.csv\")\n",
        "  start = graph.get_nodes()[0]\n",
        "  end = graph.get_nodes()[-1]\n",
        "  print(dfs(graph, start, end))\n",
        "  print(bfs(graph, start, end))\n",
        "  print(a_star(graph, start, end, 'euclidean'))\n",
        "  print(a_star(graph, start, end, 'manhattan'))\n",
        "\n",
        "  print(\"\\nTest Case 3:\\n\")\n",
        "  graph = parse_input(\"TestCase_03_EdgeList.txt\", \"TestCase_03_NodeID.csv\")\n",
        "  start = graph.get_nodes()[0]\n",
        "  end = graph.get_nodes()[-1]\n",
        "  print(dfs(graph, start, end))\n",
        "  print(bfs(graph, start, end))\n",
        "  print(a_star(graph, start, end, 'euclidean'))\n",
        "  print(a_star(graph, start, end, 'manhattan'))"
      ],
      "metadata": {
        "colab": {
          "base_uri": "https://localhost:8080/"
        },
        "id": "X4gSs99CV-cg",
        "outputId": "5d7d566a-9dad-4db6-fd29-fcc46a47e062"
      },
      "execution_count": 46,
      "outputs": [
        {
          "output_type": "stream",
          "name": "stdout",
          "text": [
            "\n",
            "Test Case 1:\n",
            "\n",
            "['N_0', 'N_1', 'N_2', 'N_3', 'N_6', 'N_5', 'N_10', 'N_11', 'N_16', 'N_15', 'N_20', 'N_21', 'N_7', 'N_12', 'N_13', 'N_8', 'N_9', 'N_4', 'N_14', 'N_18', 'N_19', 'N_24']\n",
            "['N_0', 'N_1', 'N_2', 'N_6', 'N_3', 'N_5', 'N_7', 'N_10', 'N_12', 'N_11', 'N_15', 'N_13', 'N_17', 'N_16', 'N_20', 'N_8', 'N_14', 'N_18', 'N_22', 'N_21', 'N_9', 'N_19', 'N_23', 'N_4', 'N_24']\n",
            "['N_0', 'N_1', 'N_6', 'N_2', 'N_7', 'N_12', 'N_3', 'N_13', 'N_17', 'N_18', 'N_14', 'N_19', 'N_22', 'N_23', 'N_24']\n",
            "['N_0', 'N_1', 'N_2', 'N_3', 'N_6', 'N_7', 'N_12', 'N_13', 'N_14', 'N_17', 'N_18', 'N_19', 'N_22', 'N_23', 'N_24']\n",
            "\n",
            "Test Case 2:\n",
            "\n",
            "['N_0', 'N_10', 'N_11', 'N_1', 'N_2', 'N_3', 'N_4', 'N_13', 'N_14', 'N_23', 'N_22', 'N_24', 'N_25', 'N_15', 'N_16', 'N_6', 'N_5', 'N_26', 'N_34', 'N_35', 'N_36', 'N_37', 'N_27', 'N_17', 'N_18', 'N_8', 'N_7', 'N_9', 'N_19', 'N_29', 'N_39', 'N_28', 'N_38', 'N_48', 'N_46', 'N_47', 'N_56', 'N_57', 'N_58', 'N_59', 'N_49', 'N_67', 'N_68', 'N_69', 'N_78', 'N_77', 'N_87', 'N_86', 'N_76', 'N_75', 'N_65', 'N_85', 'N_84', 'N_74', 'N_83', 'N_73', 'N_93', 'N_92', 'N_94', 'N_95', 'N_96', 'N_88', 'N_98', 'N_97', 'N_79', 'N_89', 'N_99']\n",
            "['N_0', 'N_10', 'N_11', 'N_20', 'N_1', 'N_2', 'N_3', 'N_12', 'N_4', 'N_13', 'N_14', 'N_23', 'N_22', 'N_24', 'N_33', 'N_25', 'N_34', 'N_15', 'N_26', 'N_35', 'N_16', 'N_36', 'N_45', 'N_6', 'N_37', 'N_46', 'N_44', 'N_55', 'N_5', 'N_27', 'N_38', 'N_47', 'N_56', 'N_43', 'N_54', 'N_17', 'N_28', 'N_48', 'N_57', 'N_66', 'N_42', 'N_53', 'N_64', 'N_18', 'N_58', 'N_67', 'N_32', 'N_52', 'N_63', 'N_8', 'N_59', 'N_68', 'N_31', 'N_7', 'N_9', 'N_49', 'N_69', 'N_78', 'N_21', 'N_30', 'N_41', 'N_19', 'N_77', 'N_79', 'N_40', 'N_51', 'N_29', 'N_87', 'N_89', 'N_50', 'N_61', 'N_39', 'N_86', 'N_88', 'N_97', 'N_99']\n",
            "['N_0', 'N_10', 'N_11', 'N_20', 'N_1', 'N_2', 'N_12', 'N_3', 'N_13', 'N_23', 'N_4', 'N_14', 'N_33', 'N_24', 'N_34', 'N_25', 'N_35', 'N_45', 'N_26', 'N_55', 'N_36', 'N_46', 'N_22', 'N_56', 'N_66', 'N_37', 'N_47', 'N_57', 'N_67', 'N_15', 'N_44', 'N_38', 'N_48', 'N_58', 'N_68', 'N_78', 'N_54', 'N_16', 'N_64', 'N_59', 'N_69', 'N_79', 'N_89', 'N_99']\n",
            "['N_0', 'N_10', 'N_11', 'N_20', 'N_1', 'N_2', 'N_12', 'N_3', 'N_13', 'N_14', 'N_23', 'N_24', 'N_25', 'N_26', 'N_33', 'N_34', 'N_35', 'N_36', 'N_37', 'N_38', 'N_4', 'N_45', 'N_46', 'N_47', 'N_48', 'N_55', 'N_56', 'N_57', 'N_58', 'N_59', 'N_66', 'N_67', 'N_68', 'N_69', 'N_78', 'N_79', 'N_89', 'N_99']\n",
            "\n",
            "Test Case 3:\n",
            "\n",
            "['N_0', 'N_1', 'N_2', 'N_102', 'N_100', 'N_200', 'N_201', 'N_101', 'N_202', 'N_300', 'N_301', 'N_302', 'N_402', 'N_502', 'N_602', 'N_601', 'N_603', 'N_503', 'N_403', 'N_303', 'N_203', 'N_204', 'N_205', 'N_206', 'N_207', 'N_107', 'N_7', 'N_106', 'N_6', 'N_105', 'N_5', 'N_4', 'N_3', 'N_103', 'N_104', 'N_108', 'N_8', 'N_9', 'N_10', 'N_109', 'N_110', 'N_111', 'N_11', 'N_12', 'N_112', 'N_212', 'N_213', 'N_113', 'N_114', 'N_14', 'N_13', 'N_115', 'N_15', 'N_116', 'N_117', 'N_17', 'N_16', 'N_18', 'N_19', 'N_20', 'N_21', 'N_22', 'N_23', 'N_24', 'N_121', 'N_120', 'N_220', 'N_219', 'N_319', 'N_320', 'N_122', 'N_123', 'N_124', 'N_125', 'N_25', 'N_26', 'N_27', 'N_225', 'N_226', 'N_126', 'N_127', 'N_227', 'N_228', 'N_128', 'N_129', 'N_29', 'N_28', 'N_30', 'N_130', 'N_131', 'N_31', 'N_32', 'N_33', 'N_133', 'N_132', 'N_230', 'N_231', 'N_330', 'N_331', 'N_332', 'N_232', 'N_333', 'N_233', 'N_234', 'N_134', 'N_34', 'N_235', 'N_135', 'N_35', 'N_36', 'N_37', 'N_38', 'N_39', 'N_138', 'N_139', 'N_140', 'N_40', 'N_41', 'N_42', 'N_43', 'N_44', 'N_142', 'N_143', 'N_242', 'N_243', 'N_244', 'N_144', 'N_145', 'N_45', 'N_46', 'N_47', 'N_48', 'N_49', 'N_146', 'N_147', 'N_148', 'N_149', 'N_150', 'N_151', 'N_51', 'N_50', 'N_249', 'N_248', 'N_250', 'N_350', 'N_349', 'N_348', 'N_449', 'N_450', 'N_550', 'N_549', 'N_649', 'N_749', 'N_849', 'N_551', 'N_451', 'N_351', 'N_251', 'N_352', 'N_252', 'N_152', 'N_52', 'N_253', 'N_153', 'N_53', 'N_54', 'N_55', 'N_56', 'N_57', 'N_58', 'N_155', 'N_156', 'N_157', 'N_158', 'N_159', 'N_59', 'N_60', 'N_61', 'N_62', 'N_162', 'N_161', 'N_163', 'N_63', 'N_164', 'N_165', 'N_65', 'N_64', 'N_66', 'N_67', 'N_68', 'N_167', 'N_168', 'N_169', 'N_69', 'N_70', 'N_71', 'N_72', 'N_73', 'N_74', 'N_75', 'N_76', 'N_77', 'N_177', 'N_277', 'N_278', 'N_178', 'N_78', 'N_179', 'N_79', 'N_180', 'N_80', 'N_181', 'N_81', 'N_82', 'N_279', 'N_377', 'N_376', 'N_476', 'N_477', 'N_577', 'N_578', 'N_478', 'N_579', 'N_580', 'N_480', 'N_380', 'N_280', 'N_281', 'N_282', 'N_283', 'N_183', 'N_83', 'N_182', 'N_184', 'N_84', 'N_85', 'N_185', 'N_186', 'N_86', 'N_286', 'N_285', 'N_385', 'N_287', 'N_187', 'N_87', 'N_88', 'N_89', 'N_90', 'N_91', 'N_92', 'N_93', 'N_94', 'N_95', 'N_96', 'N_97', 'N_197', 'N_198', 'N_98', 'N_99', 'N_199', 'N_299', 'N_399', 'N_398', 'N_397', 'N_297', 'N_396', 'N_395', 'N_295', 'N_294', 'N_394', 'N_494', 'N_497', 'N_496', 'N_596', 'N_597', 'N_498', 'N_598', 'N_499', 'N_599', 'N_298', 'N_196', 'N_296', 'N_195', 'N_194', 'N_193', 'N_293', 'N_192', 'N_292', 'N_190', 'N_191', 'N_291', 'N_391', 'N_392', 'N_393', 'N_493', 'N_492', 'N_592', 'N_491', 'N_290', 'N_189', 'N_188', 'N_288', 'N_289', 'N_388', 'N_389', 'N_489', 'N_490', 'N_390', 'N_488', 'N_588', 'N_386', 'N_284', 'N_381', 'N_481', 'N_479', 'N_379', 'N_679', 'N_680', 'N_681', 'N_682', 'N_582', 'N_482', 'N_382', 'N_383', 'N_384', 'N_484', 'N_483', 'N_583', 'N_485', 'N_486', 'N_586', 'N_686', 'N_687', 'N_587', 'N_487', 'N_387', 'N_688', 'N_788', 'N_787', 'N_789', 'N_689', 'N_589', 'N_790', 'N_791', 'N_691', 'N_591', 'N_590', 'N_690', 'N_692', 'N_693', 'N_593', 'N_694', 'N_594', 'N_794', 'N_795', 'N_695', 'N_595', 'N_495', 'N_696', 'N_697', 'N_698', 'N_699', 'N_799', 'N_899', 'N_798', 'N_898', 'N_796', 'N_797', 'N_896', 'N_895', 'N_897', 'N_997', 'N_998', 'N_999']\n",
            "['N_0', 'N_1', 'N_100', 'N_2', 'N_200', 'N_102', 'N_201', 'N_300', 'N_101', 'N_202', 'N_301', 'N_400', 'N_302', 'N_401', 'N_500', 'N_402', 'N_501', 'N_600', 'N_502', 'N_602', 'N_601', 'N_603', 'N_503', 'N_604', 'N_703', 'N_403', 'N_504', 'N_605', 'N_704', 'N_803', 'N_303', 'N_404', 'N_705', 'N_804', 'N_802', 'N_903', 'N_203', 'N_304', 'N_706', 'N_805', 'N_904', 'N_801', 'N_902', 'N_204', 'N_806', 'N_905', 'N_800', 'N_901', 'N_205', 'N_906', 'N_700', 'N_900', 'N_206', 'N_305', 'N_701', 'N_207', 'N_306', 'N_702', 'N_107', 'N_307', 'N_406', 'N_7', 'N_106', 'N_108', 'N_405', 'N_407', 'N_506', 'N_6', 'N_105', 'N_8', 'N_109', 'N_208', 'N_505', 'N_606', 'N_5', 'N_9', 'N_110', 'N_209', 'N_308', 'N_607', 'N_4', 'N_10', 'N_111', 'N_210', 'N_309', 'N_608', 'N_707', 'N_3', 'N_11', 'N_112', 'N_310', 'N_609', 'N_708', 'N_807', 'N_103', 'N_12', 'N_212', 'N_311', 'N_410', 'N_610', 'N_709', 'N_808', 'N_104', 'N_213', 'N_211', 'N_312', 'N_409', 'N_510', 'N_611', 'N_809', 'N_908', 'N_113', 'N_313', 'N_412', 'N_509', 'N_511', 'N_711', 'N_810', 'N_907', 'N_909', 'N_114', 'N_413', 'N_411', 'N_508', 'N_710', 'N_712', 'N_811', 'N_910', 'N_14', 'N_115', 'N_513', 'N_408', 'N_507', 'N_713', 'N_812', 'N_911', 'N_13', 'N_15', 'N_116', 'N_215', 'N_512', 'N_514', 'N_613', 'N_813', 'N_912', 'N_117', 'N_216', 'N_315', 'N_612', 'N_614', 'N_913', 'N_17', 'N_217', 'N_316', 'N_415', 'N_714', 'N_914', 'N_16', 'N_18', 'N_218', 'N_317', 'N_416', 'N_414', 'N_715', 'N_814', 'N_19', 'N_118', 'N_318', 'N_417', 'N_516', 'N_314', 'N_716', 'N_815', 'N_20', 'N_119', 'N_418', 'N_616', 'N_214', 'N_816', 'N_915', 'N_21', 'N_419', 'N_518', 'N_615', 'N_617', 'N_817', 'N_916', 'N_22', 'N_121', 'N_420', 'N_519', 'N_515', 'N_517', 'N_618', 'N_717', 'N_917', 'N_23', 'N_120', 'N_122', 'N_619', 'N_718', 'N_24', 'N_220', 'N_123', 'N_222', 'N_719', 'N_219', 'N_124', 'N_223', 'N_221', 'N_322', 'N_720', 'N_819', 'N_319', 'N_125', 'N_224', 'N_321', 'N_323', 'N_721', 'N_818', 'N_820', 'N_320', 'N_25', 'N_225', 'N_421', 'N_324', 'N_423', 'N_722', 'N_821', 'N_918', 'N_920', 'N_26', 'N_226', 'N_325', 'N_422', 'N_424', 'N_921', 'N_919', 'N_27', 'N_126', 'N_326', 'N_522', 'N_425', 'N_524', 'N_127', 'N_327', 'N_521', 'N_622', 'N_426', 'N_523', 'N_525', 'N_227', 'N_427', 'N_520', 'N_625', 'N_228', 'N_428', 'N_527', 'N_620', 'N_624', 'N_725', 'N_128', 'N_328', 'N_528', 'N_526', 'N_621', 'N_623', 'N_129', 'N_626', 'N_29', 'N_130', 'N_229', 'N_28', 'N_30', 'N_131', 'N_230', 'N_329', 'N_31', 'N_132', 'N_231', 'N_330', 'N_32', 'N_331', 'N_430', 'N_33', 'N_332', 'N_429', 'N_133', 'N_232', 'N_333', 'N_432', 'N_529', 'N_233', 'N_433', 'N_431', 'N_532', 'N_629', 'N_234', 'N_434', 'N_533', 'N_531', 'N_628', 'N_630', 'N_134', 'N_235', 'N_334', 'N_435', 'N_534', 'N_633', 'N_530', 'N_627', 'N_728', 'N_631', 'N_730', 'N_34', 'N_135', 'N_535', 'N_634', 'N_632', 'N_727', 'N_828', 'N_731', 'N_830', 'N_35', 'N_635', 'N_734', 'N_827', 'N_831', 'N_36', 'N_636', 'N_733', 'N_735', 'N_834', 'N_826', 'N_927', 'N_37', 'N_536', 'N_637', 'N_736', 'N_732', 'N_833', 'N_835', 'N_726', 'N_926', 'N_928', 'N_38', 'N_436', 'N_737', 'N_832', 'N_933', 'N_836', 'N_935', 'N_925', 'N_39', 'N_138', 'N_336', 'N_738', 'N_837', 'N_932', 'N_934', 'N_825', 'N_139', 'N_236', 'N_335', 'N_638', 'N_838', 'N_937', 'N_931', 'N_824', 'N_140', 'N_239', 'N_136', 'N_237', 'N_538', 'N_639', 'N_936', 'N_930', 'N_724', 'N_924', 'N_40', 'N_240', 'N_238', 'N_339', 'N_137', 'N_337', 'N_537', 'N_739', 'N_929', 'N_723', 'N_41', 'N_338', 'N_340', 'N_437', 'N_829', 'N_823', 'N_42', 'N_141', 'N_341', 'N_438', 'N_729', 'N_822', 'N_923', 'N_43', 'N_142', 'N_241', 'N_439', 'N_922', 'N_44', 'N_143', 'N_242', 'N_440', 'N_539', 'N_243', 'N_342', 'N_244', 'N_343', 'N_144', 'N_245', 'N_443', 'N_145', 'N_442', 'N_543', 'N_45', 'N_441', 'N_544', 'N_46', 'N_541', 'N_444', 'N_545', 'N_47', 'N_146', 'N_540', 'N_542', 'N_641', 'N_344', 'N_445', 'N_546', 'N_645', 'N_48', 'N_147', 'N_246', 'N_640', 'N_642', 'N_741', 'N_345', 'N_547', 'N_644', 'N_646', 'N_49', 'N_148', 'N_740', 'N_643', 'N_742', 'N_346', 'N_647', 'N_744', 'N_149', 'N_840', 'N_842', 'N_347', 'N_446', 'N_747', 'N_745', 'N_150', 'N_249', 'N_839', 'N_940', 'N_841', 'N_843', 'N_247', 'N_447', 'N_746', 'N_748', 'N_151', 'N_248', 'N_250', 'N_349', 'N_939', 'N_941', 'N_743', 'N_943', 'N_448', 'N_846', 'N_648', 'N_51', 'N_350', 'N_348', 'N_449', 'N_938', 'N_942', 'N_548', 'N_845', 'N_847', 'N_946', 'N_50', 'N_450', 'N_844', 'N_848', 'N_947', 'N_550', 'N_944', 'N_948', 'N_549', 'N_551', 'N_650', 'N_945', 'N_949', 'N_649', 'N_451', 'N_651', 'N_750', 'N_950', 'N_749', 'N_351', 'N_751', 'N_849', 'N_251', 'N_352', 'N_851', 'N_252', 'N_850', 'N_951', 'N_152', 'N_253', 'N_952', 'N_52', 'N_153', 'N_53', 'N_54', 'N_55', 'N_154', 'N_56', 'N_155', 'N_254', 'N_57', 'N_156', 'N_255', 'N_354', 'N_58', 'N_157', 'N_256', 'N_355', 'N_353', 'N_158', 'N_356', 'N_453', 'N_159', 'N_357', 'N_456', 'N_452', 'N_59', 'N_160', 'N_259', 'N_257', 'N_457', 'N_455', 'N_556', 'N_552', 'N_60', 'N_260', 'N_258', 'N_454', 'N_555', 'N_557', 'N_553', 'N_652', 'N_61', 'N_261', 'N_358', 'N_655', 'N_657', 'N_554', 'N_653', 'N_752', 'N_62', 'N_359', 'N_654', 'N_656', 'N_755', 'N_658', 'N_757', 'N_852', 'N_162', 'N_756', 'N_754', 'N_855', 'N_853', 'N_161', 'N_163', 'N_262', 'N_856', 'N_753', 'N_854', 'N_955', 'N_953', 'N_63', 'N_164', 'N_263', 'N_857', 'N_956', 'N_954', 'N_165', 'N_264', 'N_363', 'N_957', 'N_65', 'N_364', 'N_463', 'N_64', 'N_66', 'N_464', 'N_563', 'N_67', 'N_166', 'N_465', 'N_562', 'N_564', 'N_68', 'N_167', 'N_266', 'N_561', 'N_662', 'N_168', 'N_267', 'N_366', 'N_661', 'N_663', 'N_762', 'N_169', 'N_268', 'N_367', 'N_365', 'N_660', 'N_664', 'N_761', 'N_763', 'N_862', 'N_69', 'N_368', 'N_265', 'N_560', 'N_760', 'N_665', 'N_764', 'N_962', 'N_70', 'N_369', 'N_860', 'N_765', 'N_864', 'N_71', 'N_170', 'N_269', 'N_370', 'N_469', 'N_859', 'N_861', 'N_960', 'N_766', 'N_865', 'N_863', 'N_964', 'N_72', 'N_171', 'N_371', 'N_470', 'N_468', 'N_569', 'N_759', 'N_959', 'N_961', 'N_767', 'N_866', 'N_963', 'N_73', 'N_172', 'N_271', 'N_467', 'N_570', 'N_659', 'N_758', 'N_958', 'N_768', 'N_867', 'N_966', 'N_74', 'N_173', 'N_272', 'N_270', 'N_466', 'N_567', 'N_559', 'N_858', 'N_668', 'N_868', 'N_967', 'N_965', 'N_75', 'N_174', 'N_273', 'N_372', 'N_566', 'N_568', 'N_459', 'N_558', 'N_968', 'N_76', 'N_175', 'N_373', 'N_472', 'N_565', 'N_666', 'N_460', 'N_458', 'N_77', 'N_176', 'N_275', 'N_473', 'N_471', 'N_667', 'N_360', 'N_461', 'N_177', 'N_274', 'N_276', 'N_571', 'N_361', 'N_462', 'N_277', 'N_374', 'N_572', 'N_362', 'N_278', 'N_377', 'N_375', 'N_474', 'N_672', 'N_178', 'N_376', 'N_378', 'N_574', 'N_671', 'N_673', 'N_78', 'N_179', 'N_476', 'N_573', 'N_575', 'N_670', 'N_771', 'N_79', 'N_180', 'N_279', 'N_477', 'N_475', 'N_576', 'N_675', 'N_770', 'N_772', 'N_871', 'N_80', 'N_181', 'N_577', 'N_676', 'N_674', 'N_769', 'N_773', 'N_870', 'N_971', 'N_81', 'N_578', 'N_677', 'N_774', 'N_669', 'N_869', 'N_970', 'N_972', 'N_82', 'N_478', 'N_579', 'N_678', 'N_775', 'N_969', 'N_580', 'N_679', 'N_875', 'N_480', 'N_680', 'N_874', 'N_380', 'N_479', 'N_681', 'N_873', 'N_974', 'N_280', 'N_379', 'N_682', 'N_872', 'N_973', 'N_281', 'N_582', 'N_282', 'N_381', 'N_482', 'N_581', 'N_283', 'N_481', 'N_382', 'N_183', 'N_284', 'N_383', 'N_83', 'N_182', 'N_184', 'N_384', 'N_84', 'N_484', 'N_85', 'N_483', 'N_485', 'N_185', 'N_583', 'N_486', 'N_585', 'N_186', 'N_586', 'N_584', 'N_685', 'N_86', 'N_286', 'N_686', 'N_684', 'N_785', 'N_285', 'N_287', 'N_386', 'N_687', 'N_786', 'N_683', 'N_784', 'N_385', 'N_187', 'N_587', 'N_688', 'N_886', 'N_783', 'N_87', 'N_487', 'N_788', 'N_887', 'N_782', 'N_883', 'N_88', 'N_387', 'N_787', 'N_789', 'N_888', 'N_781', 'N_882', 'N_884', 'N_89', 'N_188', 'N_689', 'N_790', 'N_889', 'N_988', 'N_780', 'N_881', 'N_982', 'N_885', 'N_984', 'N_90', 'N_189', 'N_288', 'N_589', 'N_791', 'N_890', 'N_989', 'N_779', 'N_983', 'N_985', 'N_91', 'N_190', 'N_289', 'N_388', 'N_691', 'N_990', 'N_778', 'N_879', 'N_986', 'N_92', 'N_191', 'N_290', 'N_389', 'N_488', 'N_591', 'N_692', 'N_777', 'N_878', 'N_880', 'N_987', 'N_93', 'N_192', 'N_291', 'N_489', 'N_588', 'N_590', 'N_693', 'N_792', 'N_877', 'N_94', 'N_193', 'N_292', 'N_391', 'N_490', 'N_690', 'N_593', 'N_694', 'N_892', 'N_876', 'N_95', 'N_194', 'N_293', 'N_392', 'N_491', 'N_390', 'N_594', 'N_794', 'N_893', 'N_992', 'N_776', 'N_976', 'N_96', 'N_195', 'N_393', 'N_492', 'N_795', 'N_894', 'N_793', 'N_991', 'N_993', 'N_975', 'N_977', 'N_97', 'N_196', 'N_493', 'N_592', 'N_695', 'N_796', 'N_891', 'N_994', 'N_978', 'N_197', 'N_296', 'N_595', 'N_696', 'N_797', 'N_896', 'N_995', 'N_979', 'N_198', 'N_495', 'N_697', 'N_895', 'N_897', 'N_996', 'N_980', 'N_98', 'N_298', 'N_698', 'N_997', 'N_981', 'N_99', 'N_699', 'N_798', 'N_998', 'N_199', 'N_799', 'N_898', 'N_999']\n",
            "['N_0', 'N_1', 'N_2', 'N_100', 'N_102', 'N_200', 'N_201', 'N_202', 'N_300', 'N_301', 'N_302', 'N_101', 'N_400', 'N_401', 'N_402', 'N_500', 'N_501', 'N_502', 'N_600', 'N_602', 'N_603', 'N_604', 'N_605', 'N_703', 'N_704', 'N_705', 'N_706', 'N_503', 'N_504', 'N_803', 'N_804', 'N_805', 'N_806', 'N_601', 'N_403', 'N_404', 'N_903', 'N_904', 'N_905', 'N_906', 'N_303', 'N_304', 'N_802', 'N_203', 'N_204', 'N_205', 'N_206', 'N_207', 'N_902', 'N_305', 'N_306', 'N_307', 'N_107', 'N_108', 'N_109', 'N_110', 'N_111', 'N_112', 'N_801', 'N_406', 'N_407', 'N_208', 'N_209', 'N_210', 'N_212', 'N_213', 'N_7', 'N_8', 'N_9', 'N_10', 'N_11', 'N_12', 'N_901', 'N_506', 'N_308', 'N_309', 'N_310', 'N_311', 'N_312', 'N_313', 'N_106', 'N_113', 'N_114', 'N_115', 'N_116', 'N_117', 'N_800', 'N_606', 'N_607', 'N_608', 'N_609', 'N_610', 'N_611', 'N_405', 'N_410', 'N_412', 'N_413', 'N_211', 'N_215', 'N_216', 'N_217', 'N_218', 'N_6', 'N_14', 'N_15', 'N_17', 'N_18', 'N_19', 'N_20', 'N_21', 'N_22', 'N_23', 'N_24', 'N_900', 'N_700', 'N_701', 'N_702', 'N_707', 'N_708', 'N_709', 'N_711', 'N_712', 'N_713', 'N_505', 'N_510', 'N_511', 'N_513', 'N_514', 'N_315', 'N_316', 'N_317', 'N_318', 'N_105', 'N_118', 'N_119', 'N_121', 'N_122', 'N_123', 'N_124', 'N_125', 'N_807', 'N_808', 'N_809', 'N_810', 'N_811', 'N_812', 'N_813', 'N_613', 'N_614', 'N_409', 'N_411', 'N_415', 'N_416', 'N_417', 'N_418', 'N_419', 'N_420', 'N_222', 'N_223', 'N_224', 'N_225', 'N_226', 'N_5', 'N_13', 'N_16', 'N_25', 'N_26', 'N_27', 'N_908', 'N_909', 'N_910', 'N_911', 'N_912', 'N_913', 'N_914', 'N_710', 'N_714', 'N_715', 'N_716', 'N_509', 'N_512', 'N_516', 'N_518', 'N_519', 'N_322', 'N_323', 'N_324', 'N_325', 'N_326', 'N_327', 'N_120', 'N_126', 'N_127', 'N_814', 'N_815', 'N_816', 'N_817', 'N_612', 'N_616', 'N_617', 'N_618', 'N_619', 'N_414', 'N_423', 'N_424', 'N_425', 'N_426', 'N_427', 'N_428', 'N_220', 'N_221', 'N_227', 'N_228', 'N_4', 'N_907', 'N_915', 'N_916', 'N_917', 'N_717', 'N_718', 'N_719', 'N_720', 'N_721', 'N_722', 'N_508', 'N_517', 'N_524', 'N_525', 'N_527', 'N_528', 'N_314', 'N_321', 'N_328', 'N_128', 'N_129', 'N_130', 'N_131', 'N_132', 'N_819', 'N_820', 'N_821', 'N_615', 'N_625', 'N_408', 'N_421', 'N_422', 'N_214', 'N_219', 'N_229', 'N_230', 'N_231', 'N_3', 'N_29', 'N_30', 'N_31', 'N_32', 'N_33', 'N_920', 'N_921', 'N_725', 'N_507', 'N_515', 'N_522', 'N_523', 'N_526', 'N_319', 'N_320', 'N_329', 'N_330', 'N_331', 'N_332', 'N_333', 'N_103', 'N_104', 'N_133', 'N_818', 'N_622', 'N_624', 'N_626', 'N_430', 'N_432', 'N_433', 'N_434', 'N_435', 'N_232', 'N_233', 'N_234', 'N_235', 'N_28', 'N_918', 'N_919', 'N_521', 'N_532', 'N_533', 'N_534', 'N_535', 'N_334', 'N_134', 'N_135', 'N_623', 'N_633', 'N_634', 'N_635', 'N_636', 'N_637', 'N_429', 'N_431', 'N_34', 'N_35', 'N_36', 'N_37', 'N_38', 'N_39', 'N_734', 'N_735', 'N_736', 'N_737', 'N_738', 'N_520', 'N_529', 'N_531', 'N_536', 'N_138', 'N_139', 'N_140', 'N_834', 'N_835', 'N_836', 'N_837', 'N_838', 'N_620', 'N_621', 'N_629', 'N_630', 'N_631', 'N_632', 'N_638', 'N_639', 'N_436', 'N_239', 'N_240', 'N_40', 'N_41', 'N_42', 'N_43', 'N_44', 'N_935', 'N_937', 'N_730', 'N_731', 'N_733', 'N_739', 'N_530', 'N_538', 'N_336', 'N_339', 'N_340', 'N_341', 'N_141', 'N_142', 'N_143', 'N_830', 'N_831', 'N_833', 'N_628', 'N_236', 'N_237', 'N_238', 'N_241', 'N_242', 'N_243', 'N_244', 'N_245', 'N_933', 'N_934', 'N_936', 'N_728', 'N_732', 'N_537', 'N_335', 'N_337', 'N_338', 'N_342', 'N_343', 'N_136', 'N_137', 'N_144', 'N_145', 'N_828', 'N_832', 'N_627', 'N_437', 'N_438', 'N_439', 'N_440', 'N_443', 'N_45', 'N_46', 'N_47', 'N_48', 'N_49', 'N_932', 'N_727', 'N_539', 'N_543', 'N_544', 'N_545', 'N_546', 'N_547', 'N_146', 'N_147', 'N_148', 'N_149', 'N_150', 'N_151', 'N_827', 'N_645', 'N_646', 'N_647', 'N_442', 'N_444', 'N_445', 'N_246', 'N_249', 'N_250', 'N_51', 'N_927', 'N_928', 'N_931', 'N_747', 'N_748', 'N_344', 'N_345', 'N_346', 'N_347', 'N_349', 'N_350', 'N_826', 'N_644', 'N_648', 'N_441', 'N_446', 'N_447', 'N_448', 'N_449', 'N_450', 'N_247', 'N_248', 'N_50', 'N_926', 'N_930', 'N_726', 'N_744', 'N_745', 'N_746', 'N_541', 'N_542', 'N_548', 'N_550', 'N_551', 'N_348', 'N_846', 'N_847', 'N_848', 'N_641', 'N_642', 'N_643', 'N_650', 'N_651', 'N_451', 'N_925', 'N_929', 'N_946', 'N_947', 'N_948', 'N_949', 'N_950', 'N_741', 'N_742', 'N_750', 'N_751', 'N_540', 'N_549', 'N_351', 'N_352', 'N_825', 'N_829', 'N_842', 'N_843', 'N_845', 'N_851', 'N_640', 'N_649', 'N_251', 'N_252', 'N_253', 'N_943', 'N_951', 'N_952', 'N_729', 'N_740', 'N_743', 'N_749', 'N_152', 'N_153', 'N_824', 'N_840', 'N_841', 'N_844', 'N_849', 'N_850', 'N_52', 'N_53', 'N_54', 'N_55', 'N_56', 'N_57', 'N_58', 'N_924', 'N_940', 'N_941', 'N_942', 'N_944', 'N_945', 'N_724', 'N_154', 'N_155', 'N_156', 'N_157', 'N_158', 'N_159', 'N_160', 'N_839', 'N_254', 'N_255', 'N_256', 'N_259', 'N_260', 'N_261', 'N_59', 'N_939', 'N_60', 'N_723', 'N_61', 'N_62', 'N_354', 'N_355', 'N_356', 'N_357', 'N_162', 'N_163', 'N_164', 'N_165', 'N_823', 'N_456', 'N_457', 'N_257', 'N_258', 'N_262', 'N_263', 'N_264', 'N_923', 'N_938', 'N_63', 'N_65', 'N_556', 'N_557', 'N_66', 'N_67', 'N_68', 'N_353', 'N_358', 'N_359', 'N_363', 'N_364', 'N_161', 'N_166', 'N_167', 'N_822', 'N_168', 'N_169', 'N_657', 'N_658', 'N_453', 'N_455', 'N_463', 'N_464', 'N_465', 'N_266', 'N_267', 'N_268', 'N_922', 'N_757', 'N_64', 'N_555', 'N_563', 'N_564', 'N_69', 'N_70', 'N_71', 'N_72', 'N_73', 'N_366', 'N_367', 'N_74', 'N_368', 'N_369', 'N_370', 'N_75', 'N_371', 'N_76', 'N_77', 'N_170', 'N_655', 'N_656', 'N_171', 'N_172', 'N_173', 'N_174', 'N_452', 'N_454', 'N_175', 'N_176', 'N_177', 'N_469', 'N_470', 'N_269', 'N_271', 'N_272', 'N_273', 'N_275', 'N_276', 'N_755', 'N_756', 'N_277', 'N_278', 'N_552', 'N_553', 'N_554', 'N_562', 'N_569', 'N_570', 'N_365', 'N_372', 'N_373', 'N_377', 'N_378', 'N_855', 'N_856', 'N_857', 'N_652', 'N_653', 'N_654', 'N_662', 'N_663', 'N_664', 'N_665', 'N_468', 'N_472', 'N_178', 'N_473', 'N_179', 'N_180', 'N_181', 'N_265', 'N_270', 'N_274', 'N_955', 'N_956', 'N_957', 'N_752', 'N_754', 'N_762', 'N_763', 'N_764', 'N_765', 'N_766', 'N_767', 'N_768', 'N_279', 'N_561', 'N_374', 'N_375', 'N_376', 'N_78', 'N_79', 'N_852', 'N_853', 'N_854', 'N_862', 'N_864', 'N_865', 'N_866', 'N_867', 'N_868', 'N_80', 'N_661', 'N_81', 'N_668', 'N_82', 'N_467', 'N_471', 'N_474', 'N_476', 'N_477', 'N_953', 'N_954', 'N_962', 'N_964', 'N_966', 'N_967', 'N_968', 'N_753', 'N_761', 'N_567', 'N_568', 'N_571', 'N_572', 'N_574', 'N_575', 'N_576', 'N_577', 'N_578', 'N_579', 'N_580', 'N_863', 'N_660', 'N_672', 'N_673', 'N_675', 'N_676', 'N_677', 'N_678', 'N_679', 'N_680', 'N_681', 'N_682', 'N_466', 'N_475', 'N_478', 'N_480', 'N_963', 'N_965', 'N_760', 'N_560', 'N_566', 'N_573', 'N_582', 'N_380', 'N_860', 'N_861', 'N_666', 'N_667', 'N_671', 'N_674', 'N_479', 'N_482', 'N_960', 'N_961', 'N_771', 'N_772', 'N_773', 'N_774', 'N_775', 'N_565', 'N_280', 'N_281', 'N_282', 'N_581', 'N_283', 'N_284', 'N_379', 'N_381', 'N_859', 'N_871', 'N_875', 'N_382', 'N_383', 'N_670', 'N_384', 'N_481', 'N_484', 'N_485', 'N_183', 'N_486', 'N_184', 'N_959', 'N_971', 'N_972', 'N_759', 'N_770', 'N_585', 'N_586', 'N_870', 'N_874', 'N_659', 'N_685', 'N_686', 'N_83', 'N_687', 'N_688', 'N_84', 'N_85', 'N_483', 'N_182', 'N_958', 'N_970', 'N_974', 'N_758', 'N_769', 'N_185', 'N_785', 'N_786', 'N_788', 'N_789', 'N_559', 'N_790', 'N_791', 'N_186', 'N_583', 'N_584', 'N_587', 'N_286', 'N_287', 'N_858', 'N_869', 'N_873', 'N_886', 'N_887', 'N_888', 'N_889', 'N_890', 'N_669', 'N_684', 'N_459', 'N_386', 'N_460', 'N_461', 'N_462', 'N_689', 'N_691', 'N_692', 'N_693', 'N_86', 'N_694', 'N_487', 'N_969', 'N_973', 'N_988', 'N_989', 'N_990', 'N_784', 'N_787', 'N_558', 'N_792', 'N_794', 'N_187', 'N_360', 'N_361', 'N_795', 'N_362', 'N_796', 'N_285', 'N_589', 'N_797', 'N_591', 'N_872', 'N_892', 'N_893', 'N_894', 'N_896', 'N_593', 'N_385', 'N_897', 'N_683', 'N_458', 'N_594', 'N_387', 'N_695', 'N_87', 'N_992', 'N_993', 'N_994', 'N_995', 'N_996', 'N_997', 'N_998', 'N_999']\n",
            "['N_0', 'N_1', 'N_100', 'N_2', 'N_102', 'N_200', 'N_201', 'N_202', 'N_300', 'N_301', 'N_302', 'N_400', 'N_401', 'N_402', 'N_500', 'N_501', 'N_502', 'N_600', 'N_602', 'N_603', 'N_604', 'N_605', 'N_703', 'N_704', 'N_705', 'N_706', 'N_803', 'N_804', 'N_805', 'N_806', 'N_903', 'N_904', 'N_905', 'N_906', 'N_101', 'N_503', 'N_504', 'N_601', 'N_802', 'N_902', 'N_403', 'N_404', 'N_801', 'N_901', 'N_303', 'N_304', 'N_800', 'N_900', 'N_203', 'N_204', 'N_205', 'N_206', 'N_207', 'N_305', 'N_306', 'N_307', 'N_406', 'N_407', 'N_506', 'N_606', 'N_607', 'N_608', 'N_609', 'N_610', 'N_611', 'N_700', 'N_701', 'N_702', 'N_707', 'N_708', 'N_709', 'N_711', 'N_712', 'N_713', 'N_807', 'N_808', 'N_809', 'N_810', 'N_811', 'N_812', 'N_813', 'N_908', 'N_909', 'N_910', 'N_911', 'N_912', 'N_913', 'N_914', 'N_107', 'N_108', 'N_109', 'N_110', 'N_111', 'N_112', 'N_208', 'N_209', 'N_210', 'N_212', 'N_213', 'N_308', 'N_309', 'N_310', 'N_311', 'N_312', 'N_313', 'N_405', 'N_410', 'N_412', 'N_413', 'N_505', 'N_510', 'N_511', 'N_513', 'N_514', 'N_613', 'N_614', 'N_710', 'N_714', 'N_715', 'N_716', 'N_814', 'N_815', 'N_816', 'N_817', 'N_907', 'N_915', 'N_916', 'N_917', 'N_106', 'N_11', 'N_113', 'N_114', 'N_115', 'N_116', 'N_117', 'N_12', 'N_211', 'N_215', 'N_216', 'N_217', 'N_218', 'N_315', 'N_316', 'N_317', 'N_318', 'N_409', 'N_411', 'N_415', 'N_416', 'N_417', 'N_418', 'N_419', 'N_420', 'N_509', 'N_512', 'N_516', 'N_518', 'N_519', 'N_612', 'N_616', 'N_617', 'N_618', 'N_619', 'N_7', 'N_717', 'N_718', 'N_719', 'N_720', 'N_721', 'N_722', 'N_8', 'N_819', 'N_820', 'N_821', 'N_9', 'N_10', 'N_920', 'N_921', 'N_105', 'N_14', 'N_15', 'N_17', 'N_18', 'N_118', 'N_119', 'N_19', 'N_20', 'N_21', 'N_121', 'N_122', 'N_123', 'N_124', 'N_125', 'N_22', 'N_222', 'N_223', 'N_224', 'N_225', 'N_226', 'N_23', 'N_24', 'N_322', 'N_323', 'N_324', 'N_325', 'N_326', 'N_327', 'N_414', 'N_423', 'N_424', 'N_425', 'N_426', 'N_427', 'N_428', 'N_508', 'N_517', 'N_524', 'N_525', 'N_527', 'N_528', 'N_6', 'N_615', 'N_625', 'N_725', 'N_818', 'N_918', 'N_919', 'N_120', 'N_126', 'N_127', 'N_13', 'N_16', 'N_220', 'N_221', 'N_227', 'N_228', 'N_25', 'N_26', 'N_27', 'N_314', 'N_321', 'N_328', 'N_408', 'N_421', 'N_422', 'N_5', 'N_507', 'N_515', 'N_522', 'N_523', 'N_526', 'N_622', 'N_624', 'N_626', 'N_128', 'N_129', 'N_130', 'N_131', 'N_132', 'N_214', 'N_219', 'N_229', 'N_230', 'N_231', 'N_319', 'N_320', 'N_329', 'N_330', 'N_331', 'N_332', 'N_333', 'N_4', 'N_430', 'N_432', 'N_433', 'N_434', 'N_435', 'N_521', 'N_532', 'N_533', 'N_534', 'N_535', 'N_623', 'N_633', 'N_634', 'N_635', 'N_636', 'N_637', 'N_734', 'N_735', 'N_736', 'N_737', 'N_738', 'N_834', 'N_835', 'N_836', 'N_837', 'N_838', 'N_935', 'N_937', 'N_232', 'N_233', 'N_234', 'N_235', 'N_29', 'N_3', 'N_103', 'N_104', 'N_30', 'N_31', 'N_32', 'N_33', 'N_133', 'N_334', 'N_429', 'N_431', 'N_520', 'N_529', 'N_531', 'N_536', 'N_620', 'N_621', 'N_629', 'N_630', 'N_631', 'N_632', 'N_638', 'N_639', 'N_730', 'N_731', 'N_733', 'N_739', 'N_830', 'N_831', 'N_833', 'N_933', 'N_934', 'N_936', 'N_134', 'N_135', 'N_28', 'N_436', 'N_530', 'N_538', 'N_628', 'N_728', 'N_732', 'N_828', 'N_832', 'N_932', 'N_336', 'N_34', 'N_35', 'N_36', 'N_37', 'N_38', 'N_138', 'N_139', 'N_140', 'N_239', 'N_240', 'N_339', 'N_340', 'N_341', 'N_39', 'N_537', 'N_627', 'N_727', 'N_827', 'N_927', 'N_928', 'N_931', 'N_236', 'N_237', 'N_238', 'N_335', 'N_337', 'N_338', 'N_40', 'N_41', 'N_141', 'N_241', 'N_42', 'N_142', 'N_143', 'N_242', 'N_243', 'N_244', 'N_245', 'N_342', 'N_343', 'N_43', 'N_437', 'N_438', 'N_439', 'N_44', 'N_440', 'N_443', 'N_539', 'N_543', 'N_544', 'N_545', 'N_546', 'N_547', 'N_645', 'N_646', 'N_647', 'N_747', 'N_748', 'N_826', 'N_926', 'N_930', 'N_136', 'N_137', 'N_144', 'N_145', 'N_442', 'N_444', 'N_445', 'N_644', 'N_648', 'N_726', 'N_744', 'N_745', 'N_746', 'N_846', 'N_847', 'N_848', 'N_925', 'N_929', 'N_946', 'N_947', 'N_948', 'N_949', 'N_950', 'N_344', 'N_345', 'N_346', 'N_347', 'N_441', 'N_446', 'N_447', 'N_448', 'N_45', 'N_46', 'N_146', 'N_147', 'N_148', 'N_149', 'N_150', 'N_151', 'N_246', 'N_249', 'N_250', 'N_349', 'N_350', 'N_449', 'N_450', 'N_47', 'N_48', 'N_49', 'N_541', 'N_542', 'N_548', 'N_550', 'N_551', 'N_641', 'N_642', 'N_643', 'N_650', 'N_651', 'N_741', 'N_742', 'N_750', 'N_751', 'N_825', 'N_829', 'N_842', 'N_843', 'N_845', 'N_851', 'N_943', 'N_951', 'N_952', 'N_247', 'N_248', 'N_348', 'N_451', 'N_51', 'N_540', 'N_549', 'N_640', 'N_649', 'N_729', 'N_740', 'N_743', 'N_749', 'N_824', 'N_840', 'N_841', 'N_844', 'N_849', 'N_850', 'N_924', 'N_940', 'N_941', 'N_942', 'N_944', 'N_945', 'N_351', 'N_352', 'N_50', 'N_724', 'N_839', 'N_939', 'N_251', 'N_252', 'N_253', 'N_723', 'N_823', 'N_923', 'N_938', 'N_152', 'N_153', 'N_822', 'N_922', 'N_52', 'N_53', 'N_54', 'N_154', 'N_254', 'N_255', 'N_354', 'N_355', 'N_55', 'N_155', 'N_156', 'N_157', 'N_158', 'N_159', 'N_160', 'N_256', 'N_259', 'N_260', 'N_261', 'N_356', 'N_357', 'N_456', 'N_457', 'N_556', 'N_557', 'N_56', 'N_57', 'N_58', 'N_657', 'N_658', 'N_757', 'N_257', 'N_258', 'N_353', 'N_358', 'N_359', 'N_453', 'N_455', 'N_555', 'N_59', 'N_60', 'N_61', 'N_62', 'N_162', 'N_163', 'N_164', 'N_165', 'N_262', 'N_263', 'N_264', 'N_363', 'N_364', 'N_463', 'N_464', 'N_465', 'N_563', 'N_564', 'N_655', 'N_656', 'N_755', 'N_756', 'N_855', 'N_856', 'N_857', 'N_955', 'N_956', 'N_957', 'N_161', 'N_452', 'N_454', 'N_552', 'N_553', 'N_554', 'N_562', 'N_63', 'N_65', 'N_652', 'N_653', 'N_654', 'N_66', 'N_166', 'N_266', 'N_366', 'N_662', 'N_663', 'N_664', 'N_665', 'N_67', 'N_167', 'N_168', 'N_169', 'N_267', 'N_268', 'N_367', 'N_368', 'N_369', 'N_370', 'N_371', 'N_469', 'N_470', 'N_569', 'N_570', 'N_68', 'N_752', 'N_754', 'N_762', 'N_763', 'N_764', 'N_765', 'N_766', 'N_767', 'N_768', 'N_852', 'N_853', 'N_854', 'N_862', 'N_864', 'N_865', 'N_866', 'N_867', 'N_868', 'N_953', 'N_954', 'N_962', 'N_964', 'N_966', 'N_967', 'N_968', 'N_269', 'N_365', 'N_468', 'N_561', 'N_64', 'N_661', 'N_668', 'N_69', 'N_70', 'N_170', 'N_71', 'N_171', 'N_271', 'N_72', 'N_172', 'N_173', 'N_272', 'N_273', 'N_372', 'N_373', 'N_472', 'N_473', 'N_73', 'N_74', 'N_174', 'N_75', 'N_175', 'N_275', 'N_276', 'N_753', 'N_76', 'N_176', 'N_761', 'N_77', 'N_177', 'N_277', 'N_278', 'N_377', 'N_378', 'N_863', 'N_963', 'N_965', 'N_178', 'N_179', 'N_180', 'N_181', 'N_265', 'N_270', 'N_274', 'N_279', 'N_374', 'N_375', 'N_376', 'N_467', 'N_471', 'N_474', 'N_476', 'N_477', 'N_567', 'N_568', 'N_571', 'N_572', 'N_574', 'N_575', 'N_576', 'N_577', 'N_578', 'N_579', 'N_580', 'N_660', 'N_672', 'N_673', 'N_675', 'N_676', 'N_677', 'N_678', 'N_679', 'N_680', 'N_681', 'N_682', 'N_760', 'N_860', 'N_861', 'N_960', 'N_961', 'N_466', 'N_475', 'N_478', 'N_480', 'N_560', 'N_566', 'N_573', 'N_582', 'N_666', 'N_667', 'N_671', 'N_674', 'N_771', 'N_772', 'N_773', 'N_774', 'N_775', 'N_78', 'N_79', 'N_80', 'N_81', 'N_82', 'N_859', 'N_871', 'N_875', 'N_959', 'N_971', 'N_972', 'N_380', 'N_479', 'N_482', 'N_565', 'N_581', 'N_670', 'N_759', 'N_770', 'N_870', 'N_874', 'N_958', 'N_970', 'N_974', 'N_280', 'N_281', 'N_282', 'N_283', 'N_284', 'N_379', 'N_381', 'N_382', 'N_383', 'N_384', 'N_481', 'N_484', 'N_485', 'N_486', 'N_585', 'N_586', 'N_659', 'N_685', 'N_686', 'N_687', 'N_688', 'N_758', 'N_769', 'N_785', 'N_786', 'N_788', 'N_789', 'N_790', 'N_791', 'N_858', 'N_869', 'N_873', 'N_886', 'N_887', 'N_888', 'N_889', 'N_890', 'N_969', 'N_973', 'N_988', 'N_989', 'N_990', 'N_183', 'N_184', 'N_483', 'N_559', 'N_583', 'N_584', 'N_587', 'N_669', 'N_684', 'N_689', 'N_691', 'N_692', 'N_693', 'N_694', 'N_784', 'N_787', 'N_792', 'N_794', 'N_795', 'N_796', 'N_797', 'N_872', 'N_892', 'N_893', 'N_894', 'N_896', 'N_897', 'N_992', 'N_993', 'N_994', 'N_995', 'N_996', 'N_997', 'N_998', 'N_999']\n"
          ]
        }
      ]
    },
    {
      "cell_type": "markdown",
      "source": [
        "Acknowledgements: \\\n",
        "Claude was utilized to discuss how to best represent the graph structure in my program. \\\n",
        "\\\n",
        "https://www.geeksforgeeks.org/a-search-algorithm/ was used for high-level implementation of the A* algorithm as well as search heuristic ideas."
      ],
      "metadata": {
        "id": "9EueFOYDXGte"
      }
    }
  ]
}